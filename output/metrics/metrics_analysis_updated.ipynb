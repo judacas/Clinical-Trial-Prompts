{
 "cells": [
  {
   "cell_type": "markdown",
   "id": "65b04fc2",
   "metadata": {},
   "source": [
    "# Metrics Analysis Notebook\n",
    "Select a `calls_metrics.jsonl` file, then run the remaining cells."
   ]
  },
  {
   "cell_type": "markdown",
   "id": "69d115bd",
   "metadata": {},
   "source": [
    "## File Selection\n"
   ]
  },
  {
   "cell_type": "markdown",
   "id": "aad33e41",
   "metadata": {},
   "source": [
    "### Choose manually\n",
    "run the first cell\n",
    "use the dropdown\n",
    "then run the second cell\n",
    "if you ever want to change it then you must change the dropdown and run the second cell again"
   ]
  },
  {
   "cell_type": "code",
   "execution_count": null,
   "id": "41cfa75b",
   "metadata": {},
   "outputs": [
    {
     "data": {
      "application/vnd.jupyter.widget-view+json": {
       "model_id": "8cc3164b9f2740369e5a4e7b2d112883",
       "version_major": 2,
       "version_minor": 0
      },
      "text/plain": [
       "Dropdown(description='Select file:', layout=Layout(width='50%'), options=(('clinical_trial_calls_20250504_1844…"
      ]
     },
     "metadata": {},
     "output_type": "display_data"
    },
    {
     "name": "stdout",
     "output_type": "stream",
     "text": [
      "c:\\Users\\wasab\\Documents\\code\\python\\Clinical-Trial-Prompts\\output\\metrics\\clinical_trial_calls_20250504_184415 copy.jsonl\n"
     ]
    }
   ],
   "source": [
    "import ipywidgets as widgets\n",
    "from IPython.display import display\n",
    "import ipywidgets as widgets\n",
    "from IPython.display import display\n",
    "from pathlib import Path\n",
    "\n",
    "# Set the directory containing your metrics files\n",
    "metrics_dir = Path.cwd() \n",
    "jsonl_files = list(metrics_dir.glob(\"*.jsonl\"))\n",
    "\n",
    "if not jsonl_files:\n",
    "    print(\"No .jsonl files found in this directory.\")\n",
    "else:\n",
    "    file_dropdown = widgets.Dropdown(\n",
    "        options=[(f.name, f) for f in jsonl_files],\n",
    "        description='Select file:',\n",
    "        style={'description_width': 'initial'},\n",
    "        layout=widgets.Layout(width='50%')\n",
    "    )\n",
    "    display(file_dropdown)\n",
    "\n",
    "    # Example: get the selected file path\n",
    "    def on_file_change(change):\n",
    "        if change['type'] == 'change' and change['name'] == 'value':\n",
    "            print(f\"Selected file: {change['new']}\")\n",
    "\n",
    "    file_dropdown.observe(on_file_change)\n",
    "    print(file_dropdown.value)"
   ]
  },
  {
   "cell_type": "markdown",
   "id": "f63f36e3",
   "metadata": {},
   "source": [
    "if you change something from the above dropdown make sure to also run the line below to set it in stone"
   ]
  },
  {
   "cell_type": "code",
   "execution_count": null,
   "id": "2b201c29",
   "metadata": {},
   "outputs": [
    {
     "name": "stdout",
     "output_type": "stream",
     "text": [
      "Selected file: c:\\Users\\wasab\\Documents\\code\\python\\Clinical-Trial-Prompts\\output\\metrics\\clinical_trial_calls_20250504_184415 copy.jsonl\n"
     ]
    }
   ],
   "source": [
    "metrics_path = file_dropdown.value\n",
    "print(f\"Selected file: {metrics_path}\")"
   ]
  },
  {
   "cell_type": "markdown",
   "id": "51def1ed",
   "metadata": {},
   "source": [
    "### latest time stamped file\n",
    "if instead you just want the latest run then run this cell below"
   ]
  },
  {
   "cell_type": "code",
   "execution_count": 2,
   "id": "b5e783d9",
   "metadata": {},
   "outputs": [
    {
     "name": "stdout",
     "output_type": "stream",
     "text": [
      "Latest metrics file: c:\\Users\\wasab\\Documents\\code\\python\\Clinical-Trial-Prompts\\output\\metrics\\clinical_trial_calls_20250504_203410.jsonl\n"
     ]
    }
   ],
   "source": [
    "from pathlib import Path\n",
    "import re\n",
    "\n",
    "# Set the directory containing your metrics files\n",
    "metrics_dir = Path.cwd()  # or Path to your metrics directory\n",
    "\n",
    "# Regex to match the filename pattern and extract the timestamp\n",
    "pattern = re.compile(r\"clinical_trial_calls_(\\d{8}_\\d{6})\\.jsonl\")\n",
    "\n",
    "# Find all matching files and extract their timestamps\n",
    "files_with_timestamps = []\n",
    "for f in metrics_dir.glob(\"clinical_trial_calls_*.jsonl\"):\n",
    "    if m := pattern.match(f.name):\n",
    "        files_with_timestamps.append((m[1], f))\n",
    "\n",
    "if not files_with_timestamps:\n",
    "    print(\"No matching .jsonl files found.\")\n",
    "else:\n",
    "    # Sort by timestamp (descending) and pick the latest\n",
    "    latest_file = max(files_with_timestamps, key=lambda x: x[0])[1]\n",
    "    print(f\"Latest metrics file: {latest_file}\")\n",
    "    metrics_path = latest_file"
   ]
  },
  {
   "cell_type": "markdown",
   "id": "7c18287e",
   "metadata": {},
   "source": [
    "### verify you have the right file"
   ]
  },
  {
   "cell_type": "code",
   "execution_count": 53,
   "id": "bc725e13",
   "metadata": {},
   "outputs": [
    {
     "name": "stdout",
     "output_type": "stream",
     "text": [
      "c:\\Users\\wasab\\Documents\\code\\python\\Clinical-Trial-Prompts\\output\\metrics\\clinical_trial_calls_20250504_203410.jsonl\n"
     ]
    }
   ],
   "source": [
    "print(metrics_path)"
   ]
  },
  {
   "cell_type": "markdown",
   "id": "74c0e531",
   "metadata": {},
   "source": [
    "## Actual analysis"
   ]
  },
  {
   "cell_type": "markdown",
   "id": "af8d580a",
   "metadata": {},
   "source": [
    "### setup"
   ]
  },
  {
   "cell_type": "code",
   "execution_count": 13,
   "id": "9e27c1e7",
   "metadata": {},
   "outputs": [
    {
     "name": "stdout",
     "output_type": "stream",
     "text": [
      "Loaded 13,328 call records from c:\\Users\\wasab\\Documents\\code\\python\\Clinical-Trial-Prompts\\output\\metrics\\clinical_trial_calls_20250504_203410.jsonl\n",
      "Index(['ts', 'retry', 'prompt_tokens', 'schema_tokens', 'pred_completion',\n",
      "       'completion_tokens', 'prompt_cached', 'total_tokens', 'lat_ms',\n",
      "       'sem_capacity', 'error', '=', 'elapsed_time', 'pred_err'],\n",
      "      dtype='object')\n",
      "                                        ts  retry  prompt_tokens  \\\n",
      "elapsed_time                                                       \n",
      "0.000000     2025-05-05 00:34:22.302074909    0.0             96   \n",
      "0.007897     2025-05-05 00:34:22.309972286    0.0            101   \n",
      "0.029372     2025-05-05 00:34:22.331447363    0.0             94   \n",
      "0.057103     2025-05-05 00:34:22.359177828    0.0             94   \n",
      "0.066936     2025-05-05 00:34:22.369010448    0.0             91   \n",
      "\n",
      "              schema_tokens  pred_completion  completion_tokens  \\\n",
      "elapsed_time                                                      \n",
      "0.000000                829              185                 52   \n",
      "0.007897                829              186                 56   \n",
      "0.029372                829              184                 55   \n",
      "0.057103                829              184                 49   \n",
      "0.066936                829              184                 37   \n",
      "\n",
      "              prompt_cached  total_tokens  lat_ms  sem_capacity error   =  \\\n",
      "elapsed_time                                                                \n",
      "0.000000                0.0         981.0  1437.4         100.0  None NaN   \n",
      "0.007897                0.0         990.0  1269.8         100.0  None NaN   \n",
      "0.029372                0.0         982.0  1455.4         100.0  None NaN   \n",
      "0.057103                0.0         976.0  1073.2         100.0  None NaN   \n",
      "0.066936                0.0         961.0  1694.5         100.0  None NaN   \n",
      "\n",
      "              elapsed_time  pred_err  \n",
      "elapsed_time                          \n",
      "0.000000          0.000000       133  \n",
      "0.007897          0.007897       130  \n",
      "0.029372          0.029372       129  \n",
      "0.057103          0.057103       135  \n",
      "0.066936          0.066936       147  \n"
     ]
    }
   ],
   "source": [
    "import pandas as pd\n",
    "import matplotlib.pyplot as plt\n",
    "\n",
    "assert metrics_path.exists(), f'File not found: {metrics_path}'\n",
    "df = pd.read_json(metrics_path, lines=True, convert_dates=['ts'])\n",
    "df['ts'] = pd.to_datetime(df['ts'], unit='s')\n",
    "df.set_index('ts', inplace=True, drop=False)\n",
    "df['elapsed_time'] = (df.index - df.index[0]).total_seconds()\n",
    "df['pred_err'] = df['pred_completion'] - df['completion_tokens']\n",
    "df = df.set_index('elapsed_time', drop=False) \n",
    "print(f'Loaded {len(df):,} call records from', metrics_path)\n",
    "# Display all columns in the DataFrame\n",
    "print(df.columns)\n",
    "print(df.head())"
   ]
  },
  {
   "cell_type": "markdown",
   "id": "ec5936c1",
   "metadata": {},
   "source": [
    "### Token Charts"
   ]
  },
  {
   "cell_type": "code",
   "execution_count": 73,
   "id": "9eac7868",
   "metadata": {},
   "outputs": [
    {
     "data": {
      "application/vnd.jupyter.widget-view+json": {
       "model_id": "b51db07138294b6da6a22eaa0bb4cd9c",
       "version_major": 2,
       "version_minor": 0
      },
      "text/plain": [
       "interactive(children=(Checkbox(value=True, description='Prompt'), Checkbox(value=True, description='Cached'), …"
      ]
     },
     "metadata": {},
     "output_type": "display_data"
    }
   ],
   "source": [
    "import matplotlib.pyplot as plt\n",
    "import ipywidgets as widgets\n",
    "from ipywidgets import interact\n",
    "\n",
    "token_cols = {\n",
    "    \"Prompt Tokens\": \"prompt_tokens\",\n",
    "    \"Cached Prompt\": \"prompt_cached\",\n",
    "    \"Predicted Completion\": \"pred_completion\",\n",
    "    \"Actual Completion\": \"completion_tokens\",\n",
    "    \"Prediction Error\": \"pred_err\",\n",
    "}\n",
    "\n",
    "@interact(\n",
    "    prompt     = widgets.Checkbox(True,  description=\"Prompt\"),\n",
    "    cached     = widgets.Checkbox(True,  description=\"Cached\"),\n",
    "    pred       = widgets.Checkbox(True,  description=\"Predicted\"),\n",
    "    actual     = widgets.Checkbox(True,  description=\"Actual\"),\n",
    "    pred_err   = widgets.Checkbox(False, description=\"Prediction Error\"),\n",
    "    window     = widgets.IntSlider(100, min=1, max=1000, step=1, description=\"Window\"),\n",
    "    log_scale  = widgets.Checkbox(False, description=\"Logarithmic Y-Axis\"),\n",
    ")\n",
    "def update_plot(prompt, cached, pred, actual, pred_err, window, log_scale):\n",
    "    plt.figure(figsize=(12,6))\n",
    "\n",
    "    x = df['elapsed_time']                        # seconds since start\n",
    "\n",
    "    if prompt:\n",
    "        y = df[token_cols[\"Prompt Tokens\"]].rolling(window).mean()\n",
    "        plt.plot(x, y, label=\"Prompt Tokens\")\n",
    "    if cached:\n",
    "        y = df[token_cols[\"Cached Prompt\"]].rolling(window).mean()\n",
    "        plt.plot(x, y, label=\"Cached Prompt\")\n",
    "    if pred:\n",
    "        y = df[token_cols[\"Predicted Completion\"]].rolling(window).mean()\n",
    "        plt.plot(x, y, label=\"Predicted Completion\")\n",
    "    if actual:\n",
    "        y = df[token_cols[\"Actual Completion\"]].rolling(window).mean()\n",
    "        plt.plot(x, y, label=\"Completion Tokens\")\n",
    "    if pred_err:\n",
    "        y = df[token_cols[\"Prediction Error\"]].rolling(window).mean()\n",
    "        plt.plot(x, y, label=\"Prediction Error\")\n",
    "\n",
    "    plt.title(f\"Token metrics per call ({window}-call rolling mean)\")\n",
    "    plt.xlabel(\"Elapsed Time (seconds)\")\n",
    "    plt.ylabel(\"Tokens (log scale)\" if log_scale else \"Tokens\")\n",
    "    plt.yscale('log' if log_scale else 'linear')\n",
    "    plt.legend()\n",
    "    plt.grid(True, axis='y', alpha=0.3)\n",
    "    plt.tight_layout()\n",
    "    plt.show()\n"
   ]
  },
  {
   "cell_type": "code",
   "execution_count": 72,
   "id": "c2ef86e6",
   "metadata": {},
   "outputs": [
    {
     "data": {
      "application/vnd.jupyter.widget-view+json": {
       "model_id": "543878ddf74647d28ce9f9463d258736",
       "version_major": 2,
       "version_minor": 0
      },
      "text/plain": [
       "interactive(children=(Checkbox(value=True, description='Prompt'), Checkbox(value=True, description='Cached'), …"
      ]
     },
     "metadata": {},
     "output_type": "display_data"
    }
   ],
   "source": [
    "import matplotlib.pyplot as plt\n",
    "import ipywidgets as widgets\n",
    "from ipywidgets import interact\n",
    "\n",
    "token_cols = {\n",
    "    \"Prompt Tokens\": \"prompt_tokens\",\n",
    "    \"Cached Prompt\": \"prompt_cached\",\n",
    "    \"Predicted Completion\": \"pred_completion\",\n",
    "    \"Actual Completion\": \"completion_tokens\",\n",
    "    \"Prediction Error\": \"pred_err\",\n",
    "}\n",
    "\n",
    "@interact(\n",
    "    prompt     = widgets.Checkbox(True,  description=\"Prompt\"),\n",
    "    cached     = widgets.Checkbox(True,  description=\"Cached\"),\n",
    "    pred       = widgets.Checkbox(True,  description=\"Predicted\"),\n",
    "    actual     = widgets.Checkbox(True,  description=\"Actual\"),\n",
    "    pred_err   = widgets.Checkbox(False, description=\"Prediction Error\"),\n",
    "    bins       = widgets.IntSlider(50, min=10, max=200, step=5, description=\"Bins\"),\n",
    "    log_scale  = widgets.Checkbox(False, description=\"Logarithmic Y-Axis\"),\n",
    ")\n",
    "def plot_distribution(prompt, cached, pred, actual, pred_err, bins, log_scale):\n",
    "    plt.figure(figsize=(12,6))\n",
    "\n",
    "    if prompt:\n",
    "        plt.hist(df[token_cols[\"Prompt Tokens\"]], bins=bins, alpha=0.6, label=\"Prompt Tokens\")\n",
    "    if cached:\n",
    "        plt.hist(df[token_cols[\"Cached Prompt\"]], bins=bins, alpha=0.6, label=\"Cached Prompt\")\n",
    "    if pred:\n",
    "        plt.hist(df[token_cols[\"Predicted Completion\"]], bins=bins, alpha=0.6, label=\"Predicted Completion\")\n",
    "    if actual:\n",
    "        plt.hist(df[token_cols[\"Actual Completion\"]], bins=bins, alpha=0.6, label=\"Completion Tokens\")\n",
    "    if pred_err:\n",
    "        plt.hist(df[token_cols[\"Prediction Error\"]], bins=bins, alpha=0.6, label=\"Prediction Error\")\n",
    "\n",
    "    plt.title(\"Distribution of Token Metrics\")\n",
    "    plt.xlabel(\"Tokens\")\n",
    "    plt.ylabel(\"Frequency (Log)\" if log_scale else \"Frequency\")\n",
    "    plt.yscale(\"log\" if log_scale else \"linear\")\n",
    "    plt.legend()\n",
    "    plt.grid(True, axis='y', alpha=0.3)\n",
    "    plt.tight_layout()\n",
    "    plt.show()\n"
   ]
  },
  {
   "cell_type": "markdown",
   "id": "1fd6f70c",
   "metadata": {},
   "source": [
    "### Latency and retry"
   ]
  },
  {
   "cell_type": "code",
   "execution_count": null,
   "id": "2c9e167d",
   "metadata": {},
   "outputs": [
    {
     "data": {
      "application/vnd.jupyter.widget-view+json": {
       "model_id": "99756b71813e4fbb93272c39f07d4b5e",
       "version_major": 2,
       "version_minor": 0
      },
      "text/plain": [
       "interactive(children=(IntSlider(value=100, description='Window', max=1000, min=1), Checkbox(value=False, descr…"
      ]
     },
     "metadata": {},
     "output_type": "display_data"
    }
   ],
   "source": [
    "@interact(\n",
    "    window=widgets.IntSlider(value=100, min=1, max=1000, step=1,description=\"Window\"),\n",
    "    log_scale=widgets.Checkbox(False, description=\"Logarithmic Y-Axis\"),\n",
    ")\n",
    "def plot_latency(window, log_scale):\n",
    "    x = df['elapsed_time']                     # seconds since start\n",
    "    y = df['lat_ms'].rolling(window).mean()    # rolling mean\n",
    "\n",
    "    plt.figure(figsize=(12, 6))\n",
    "    plt.plot(x, y, color='tab:blue', label=f'Latency ({window}-call mean)')\n",
    "    plt.ylabel('Latency (ms) (log scale)' if log_scale else 'Latency (ms)')\n",
    "    plt.yscale('log' if log_scale else 'linear')\n",
    "    plt.xlabel('Elapsed Time (seconds)')\n",
    "    plt.title('Latency per Call')\n",
    "    plt.legend()\n",
    "    plt.grid(True, axis='y', alpha=0.3)\n",
    "    plt.tight_layout()\n",
    "    plt.show()\n"
   ]
  },
  {
   "cell_type": "code",
   "execution_count": 75,
   "id": "5fc6d1b6",
   "metadata": {},
   "outputs": [
    {
     "data": {
      "application/vnd.jupyter.widget-view+json": {
       "model_id": "a5fd00f4ae804640b602296f6af839d1",
       "version_major": 2,
       "version_minor": 0
      },
      "text/plain": [
       "interactive(children=(IntSlider(value=50, description='Bins', max=200, min=10, step=5), Checkbox(value=False, …"
      ]
     },
     "metadata": {},
     "output_type": "display_data"
    }
   ],
   "source": [
    "import matplotlib.pyplot as plt\n",
    "import ipywidgets as widgets\n",
    "from ipywidgets import interact\n",
    "\n",
    "@interact(\n",
    "    bins=widgets.IntSlider(value=50, min=10, max=200, step=5, description=\"Bins\"),\n",
    "    log_scale=widgets.Checkbox(False, description=\"Logarithmic Y-Axis\"),\n",
    ")\n",
    "def plot_latency_distribution(bins, log_scale):\n",
    "    plt.figure(figsize=(12, 6))\n",
    "    plt.hist(df['lat_ms'], bins=bins, alpha=0.7, color='tab:blue', label='Latency (ms)')\n",
    "\n",
    "    plt.xlabel(\"Latency (ms)\")\n",
    "    plt.ylabel(\"Frequency (Log)\" if log_scale else \"Frequency\")\n",
    "    plt.yscale(\"log\" if log_scale else \"linear\")\n",
    "    plt.title(\"Latency Distribution per Call\")\n",
    "    plt.grid(True, axis='y', alpha=0.3)\n",
    "    plt.legend()\n",
    "    plt.tight_layout()\n",
    "    plt.show()\n"
   ]
  },
  {
   "cell_type": "markdown",
   "id": "31543223",
   "metadata": {},
   "source": [
    "### RPM and TPM raw values but somewhat deceptive y axis"
   ]
  },
  {
   "cell_type": "code",
   "execution_count": 69,
   "id": "22580a09",
   "metadata": {},
   "outputs": [
    {
     "data": {
      "application/vnd.jupyter.widget-view+json": {
       "model_id": "c1c9ff5b726f470486c40bfcbe013f65",
       "version_major": 2,
       "version_minor": 0
      },
      "text/plain": [
       "interactive(children=(Checkbox(value=True, description='Show TPM (tokens)'), Checkbox(value=True, description=…"
      ]
     },
     "metadata": {},
     "output_type": "display_data"
    }
   ],
   "source": [
    "import ipywidgets as widgets\n",
    "from ipywidgets import interact\n",
    "import matplotlib.pyplot as plt\n",
    "# Ensure datetime index\n",
    "df['ts'] = pd.to_datetime(df['ts'], unit='s')\n",
    "df.set_index('ts', inplace=True, drop=False)  # Keeps ts column\n",
    "\n",
    "\n",
    "df = df.sort_index()\n",
    "# Rolling 60s sum of total tokens (TPM)\n",
    "tpm_rolling = df['total_tokens'].rolling('60s').sum()\n",
    "\n",
    "# Rolling 60s count of rows = RPM\n",
    "rpm_rolling = df['total_tokens'].rolling('60s').count()\n",
    "\n",
    "\n",
    "@interact(\n",
    "    show_tpm=widgets.Checkbox(value=True, description='Show TPM (tokens)'),\n",
    "    show_rpm=widgets.Checkbox(value=True, description='Show RPM (requests)'),\n",
    "    highlight_errors=widgets.Checkbox(value=True, description='Highlight Errors'),\n",
    "    highlight_retries=widgets.Checkbox(value=True, description='Highlight Retries'),\n",
    ")\n",
    "def plot_with_highlights(show_tpm, show_rpm, highlight_errors, highlight_retries):\n",
    "    fig, ax1 = plt.subplots(figsize=(12, 6))\n",
    "    ax2 = ax1.twinx()\n",
    "\n",
    "    x = (tpm_rolling.index - df.index[0]).total_seconds()\n",
    "\n",
    "    if show_tpm:\n",
    "        ax1.plot(x, tpm_rolling, label='TPM (tokens)', color='tab:blue')\n",
    "        ax1.set_ylabel('Tokens per minute', color='tab:blue')\n",
    "        ax1.tick_params(axis='y', labelcolor='tab:blue')\n",
    "\n",
    "    if show_rpm:\n",
    "        ax2.plot(x, rpm_rolling, label='RPM (requests)', color='tab:orange')\n",
    "        ax2.set_ylabel('Requests per minute', color='tab:orange')\n",
    "        ax2.tick_params(axis='y', labelcolor='tab:orange')\n",
    "\n",
    "    # Highlight error events\n",
    "    if highlight_errors:\n",
    "        error_locs = df[df['error'].notna()]\n",
    "        x_errors = (error_locs['ts'] - df['ts'].iloc[0]).dt.total_seconds()\n",
    "        for xe in x_errors:\n",
    "            ax1.axvline(x=xe, color='red', alpha=0.5, linestyle='--', linewidth=1)\n",
    "        # Optionally, add a legend entry\n",
    "        if not error_locs.empty:\n",
    "            ax1.plot([], [], color='red', alpha=0.5, linestyle='--', label='Error Event')\n",
    "\n",
    "    # Highlight retry bursts (where retry > 0)\n",
    "    if highlight_retries:\n",
    "        retry_locs = df[df['retry'] > 0]\n",
    "        x_retries = (retry_locs['ts'] - df['ts'].iloc[0]).dt.total_seconds()\n",
    "        for xr in x_retries:\n",
    "            ax1.axvline(x=xr, color='green', alpha=0.5, linestyle=':', linewidth=1)\n",
    "        if not retry_locs.empty:\n",
    "            ax1.plot([], [], color='green', alpha=0.5, linestyle=':', label='Retry Event')\n",
    "\n",
    "    ax1.set_xlabel('Elapsed Time (seconds)')\n",
    "    ax1.set_title('Rolling 60-Second TPM & RPM with Event Highlights')\n",
    "    ax1.grid(True)\n",
    "\n",
    "    # Combine legends from both axes\n",
    "    lines, labels = [], []\n",
    "    for ax in [ax1, ax2]:\n",
    "        l, lab = ax.get_legend_handles_labels()\n",
    "        lines += l\n",
    "        labels += lab\n",
    "    ax1.legend(lines, labels, loc='upper left')\n",
    "\n",
    "    fig.tight_layout()\n",
    "    plt.show()\n",
    "    \n"
   ]
  },
  {
   "cell_type": "markdown",
   "id": "b7c89503",
   "metadata": {},
   "source": [
    "### RPM and TPM based on percent of max throughput"
   ]
  },
  {
   "cell_type": "code",
   "execution_count": null,
   "id": "4b89f1dc",
   "metadata": {},
   "outputs": [
    {
     "data": {
      "application/vnd.jupyter.widget-view+json": {
       "model_id": "affe8604ea7d4e22983452f12a98e47c",
       "version_major": 2,
       "version_minor": 0
      },
      "text/plain": [
       "interactive(children=(Checkbox(value=True, description='TPM %'), Checkbox(value=True, description='RPM %'), Ch…"
      ]
     },
     "metadata": {},
     "output_type": "display_data"
    }
   ],
   "source": [
    "import matplotlib.pyplot as plt\n",
    "import ipywidgets as widgets\n",
    "from ipywidgets import interact\n",
    "\n",
    "# ---- constants ------------------------------------------------------------\n",
    "TPM_IDEAL = 2_000_000\n",
    "RPM_IDEAL = 2_000\n",
    "\n",
    "# pre‑compute once so the widget stays snappy\n",
    "df_sorted = df.sort_index()\n",
    "elapsed   = (df_sorted.index - df_sorted.index[0]).total_seconds()\n",
    "\n",
    "tpm_pct = 100 * tpm_rolling / TPM_IDEAL\n",
    "rpm_pct = 100 * rpm_rolling / RPM_IDEAL\n",
    "err_cum = df_sorted['error'].notna().cumsum()\n",
    "ret_cum = df_sorted['retry'].cumsum()\n",
    "\n",
    "err_spikes_x = (df_sorted[df_sorted['error'].notna()].index - df_sorted.index[0]).total_seconds()\n",
    "ret_spikes_x = (df_sorted[df_sorted['retry'] > 0].index    - df_sorted.index[0]).total_seconds()\n",
    "\n",
    "# ---- interactive plot -----------------------------------------------------\n",
    "@interact(\n",
    "    show_tpm      =widgets.Checkbox(True, description='TPM %'),\n",
    "    show_rpm      =widgets.Checkbox(True, description='RPM %'),\n",
    "    show_errors   =widgets.Checkbox(True, description='Cumulative Errors'),\n",
    "    show_retries  =widgets.Checkbox(True, description='Cumulative Retries'),\n",
    "    spikes_errors =widgets.Checkbox(True, description='Error spikes'),\n",
    "    spikes_retries=widgets.Checkbox(True, description='Retry spikes'),\n",
    "    spike_alpha   =widgets.FloatSlider(value = 0.25, min = 0.0, max = 1.0, step=0.05, description='Spike alpha'),\n",
    ")\n",
    "def plot_combined(show_tpm, show_rpm,show_errors, show_retries,spikes_errors, spikes_retries, spike_alpha):\n",
    "\n",
    "    fig, ax_left = plt.subplots(figsize=(12,6))\n",
    "    ax_right = ax_left.twinx()\n",
    "\n",
    "    # --- left axis: percent of ideal --------------------------------------\n",
    "    if show_tpm:\n",
    "        ax_left.plot(elapsed, tpm_pct, color='tab:blue',label='TPM (% of 2M)', linewidth=1.5)\n",
    "    if show_rpm:\n",
    "        ax_left.plot(elapsed, rpm_pct, color='tab:orange',label='RPM (% of 2k)', linewidth=1.5)\n",
    "\n",
    "    ax_left.set_ylabel('Percent of Ideal (%)')\n",
    "    ax_left.set_xlabel('Elapsed Time (seconds)')\n",
    "    ax_left.set_ylim(0, max(tpm_pct.max(), rpm_pct.max())*1.1)\n",
    "    ax_left.grid(True, axis='y', alpha=0.3)\n",
    "\n",
    "    # --- right axis: cumulative counts ------------------------------------\n",
    "    if show_errors:\n",
    "        ax_right.step(elapsed, err_cum, where='post', color='tab:purple', linewidth=2, label='Cum. Errors')\n",
    "    if show_retries:\n",
    "        ax_right.step(elapsed, ret_cum, where='post', color='tab:red', linewidth=2, label='Cum. Retries')\n",
    "\n",
    "    if spikes_errors:\n",
    "        ax_right.vlines(err_spikes_x, 0, err_cum.max(),\n",
    "                        color='tab:purple', alpha=spike_alpha,\n",
    "                        linewidth=(1+spike_alpha), linestyles=':')\n",
    "    if spikes_retries:\n",
    "        ax_right.vlines(ret_spikes_x, 0, ret_cum.max(),\n",
    "                        color='tab:red', alpha=spike_alpha,\n",
    "                        linewidth=(1+spike_alpha), linestyles='--')\n",
    "\n",
    "    ax_right.set_ylabel('Cumulative Count')\n",
    "    ax_right.set_ylim(0, max(err_cum.max(), ret_cum.max())*1.2)\n",
    "\n",
    "    # --- legend -----------------------------------------------------------\n",
    "    lines_l, labels_l = ax_left.get_legend_handles_labels()\n",
    "    lines_r, labels_r = ax_right.get_legend_handles_labels()\n",
    "    ax_left.legend(lines_l + lines_r, labels_l + labels_r, loc='upper left')\n",
    "\n",
    "    plt.title('Normalized Throughput vs. Cumulative Errors / Retries')\n",
    "    plt.tight_layout()\n",
    "    plt.show()\n"
   ]
  },
  {
   "cell_type": "code",
   "execution_count": null,
   "id": "a82db240",
   "metadata": {},
   "outputs": [
    {
     "data": {
      "application/vnd.jupyter.widget-view+json": {
       "model_id": "07ef9f851df8467b84d0f54c1f9b7da9",
       "version_major": 2,
       "version_minor": 0
      },
      "text/plain": [
       "interactive(children=(Checkbox(value=True, description='TPM %'), Checkbox(value=True, description='RPM %'), In…"
      ]
     },
     "metadata": {},
     "output_type": "display_data"
    }
   ],
   "source": [
    "from ipywidgets import interact, Checkbox, IntSlider\n",
    "import matplotlib.pyplot as plt\n",
    "\n",
    "@interact(\n",
    "    show_tpm=Checkbox(True, description=\"TPM %\"),\n",
    "    show_rpm=Checkbox(True, description=\"RPM %\"),\n",
    "    bins=IntSlider(50, min=10, max=200, step=5, description=\"Bins\"),\n",
    "    log_scale=Checkbox(False, description=\"Logarithmic Y-Axis\"),\n",
    ")\n",
    "def plot_throughput_distribution(show_tpm, show_rpm, bins, log_scale):\n",
    "    plt.figure(figsize=(12, 6))\n",
    "    if show_tpm:\n",
    "        plt.hist(tpm_pct.dropna(), bins=bins, alpha=0.6, label=\"TPM (%)\", color=\"tab:blue\")\n",
    "    if show_rpm:\n",
    "        plt.hist(rpm_pct.dropna(), bins=bins, alpha=0.6, label=\"RPM (%)\", color=\"tab:orange\")\n",
    "\n",
    "    plt.xlabel(\"Percent of Ideal Throughput\")\n",
    "    plt.ylabel(\"Frequency (Log)\" if log_scale else \"Frequency\")\n",
    "    plt.yscale(\"log\" if log_scale else \"linear\")\n",
    "    plt.title(\"Distribution of Throughput (TPM and RPM as % of Ideal)\")\n",
    "    plt.grid(True, axis='y', alpha=0.3)\n",
    "    plt.legend()\n",
    "    plt.tight_layout()\n",
    "    plt.show()\n"
   ]
  },
  {
   "cell_type": "markdown",
   "id": "f68f0d51",
   "metadata": {},
   "source": [
    "### Types of errors"
   ]
  },
  {
   "cell_type": "code",
   "execution_count": 9,
   "id": "28a2ae2a",
   "metadata": {},
   "outputs": [
    {
     "data": {
      "image/png": "[encoded data removed]",
      "text/plain": [
       "<Figure size 600x400 with 1 Axes>"
      ]
     },
     "metadata": {},
     "output_type": "display_data"
    }
   ],
   "source": [
    "\n",
    "def plot_errors():\n",
    "    error_counts = df['error'].dropna().value_counts()\n",
    "    if not error_counts.empty:\n",
    "        plt.figure(figsize=(6, 4))\n",
    "        error_counts.plot(kind=\"bar\")\n",
    "        plt.title(\"Error types per call\")\n",
    "        plt.xlabel(\"Error\")\n",
    "        plt.ylabel(\"Count\")\n",
    "        plt.xticks(rotation=45)\n",
    "        plt.grid(True)\n",
    "        plt.tight_layout()\n",
    "        plt.show()\n",
    "    else:\n",
    "        print(\"No errors recorded in this run.\")\n",
    "plot_errors()"
   ]
  }
 ],
 "metadata": {
  "kernelspec": {
   "display_name": ".venv",
   "language": "python",
   "name": "python3"
  },
  "language_info": {
   "codemirror_mode": {
    "name": "ipython",
    "version": 3
   },
   "file_extension": ".py",
   "mimetype": "text/x-python",
   "name": "python",
   "nbconvert_exporter": "python",
   "pygments_lexer": "ipython3",
   "version": "3.13.1"
  }
 },
 "nbformat": 4,
 "nbformat_minor": 5
}
